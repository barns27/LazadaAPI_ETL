{
 "cells": [
  {
   "cell_type": "markdown",
   "id": "1a510b88-260b-4f5b-a3cd-64538ca3c64c",
   "metadata": {},
   "source": [
    "# Lazada Project: Transform"
   ]
  },
  {
   "cell_type": "markdown",
   "id": "4ee9a1be-7509-49d6-8cb2-8c546084a23d",
   "metadata": {},
   "source": [
    "This part does Transform of ETL (Extract, Transform and Load).\n",
    "Data from csv file is inserted to table in MS SQL database."
   ]
  },
  {
   "cell_type": "code",
   "execution_count": 63,
   "id": "fef66b1b-6e85-40ce-a32e-9f8b851abc76",
   "metadata": {},
   "outputs": [],
   "source": [
    "import pandas as pd\n",
    "from sqlalchemy import create_engine, Column, Integer, String, Float, Boolean, MetaData, Table"
   ]
  },
  {
   "cell_type": "code",
   "execution_count": 64,
   "id": "b5460501-b265-4ae5-acf5-3a4f1b54b6b0",
   "metadata": {},
   "outputs": [],
   "source": [
    "# connection string\n",
    "conn_str = \"mssql+pyodbc:///?odbc_connect=DRIVER={ODBC Driver 17 for SQL Server};SERVER=Renz-Latitude54\\\\SQLEXPRESS;DATABASE=Lazada;Trusted_Connection=yes;\""
   ]
  },
  {
   "cell_type": "code",
   "execution_count": 65,
   "id": "32c5a405-ded5-41f2-9d13-00b24140b88a",
   "metadata": {},
   "outputs": [],
   "source": [
    "# Create SQLAlchemy engine\n",
    "engine = create_engine(conn_str)"
   ]
  },
  {
   "cell_type": "code",
   "execution_count": 66,
   "id": "fb68e900-fe7d-41ce-a981-6c9b73251b5c",
   "metadata": {},
   "outputs": [],
   "source": [
    "# Define table structure\n",
    "table_name = 'LazadaProducts'\n",
    "metadata = MetaData()\n",
    "table = Table(\n",
    "    table_name, \n",
    "    metadata,\n",
    "    Column('item_id', Integer, primary_key=True),  # Assuming item_id is unique\n",
    "    Column('product_url', String),\n",
    "    Column('title', String),\n",
    "    Column('img', String),\n",
    "    Column('category_path', String),\n",
    "    Column('brand', String),\n",
    "    Column('brand_id', Integer),\n",
    "    Column('currency', String),\n",
    "    Column('price', Float),\n",
    "    Column('discount', Float),\n",
    "    Column('comment_count', Integer),\n",
    "    Column('sold_count', Integer),\n",
    "    Column('is_in_stock', Boolean),\n",
    "    Column('is_ad', Boolean),\n",
    "    Column('sale_price', Float),\n",
    "    Column('origin_price', Float),\n",
    "    Column('average_score', Float),\n",
    "    Column('review_count', Integer),\n",
    "    Column('shop_id', Integer),\n",
    "    Column('shop_name', String),\n",
    "    Column('shop_url', String),\n",
    "    Column('seller_id', Integer),\n",
    "    Column('seller_name', String),\n",
    "    Column('area_from', String)\n",
    ")"
   ]
  },
  {
   "cell_type": "code",
   "execution_count": 67,
   "id": "874366e5-d7d1-4dac-b4fd-fa3cf9b3b474",
   "metadata": {},
   "outputs": [],
   "source": [
    "# Bind the metadata to the engine\n",
    "metadata.create_all(engine) "
   ]
  },
  {
   "cell_type": "code",
   "execution_count": 68,
   "id": "ccf1a9e0-fa9f-42eb-805e-c88a79a84a0b",
   "metadata": {},
   "outputs": [],
   "source": [
    "# Read CSV file into pandas DataFrame (ignoring the first column)\n",
    "df = pd.read_csv('lazada.csv', header=None, skiprows=1, usecols=range(1, 25)) "
   ]
  },
  {
   "cell_type": "code",
   "execution_count": 69,
   "id": "2afe3266-8afa-4b67-b7f7-7ad058fe4d87",
   "metadata": {},
   "outputs": [],
   "source": [
    "# Set column names explicitly in DataFrame\n",
    "df.columns = [\n",
    "    'item_id',\n",
    "    'product_url',\n",
    "    'title',\n",
    "    'img',\n",
    "    'category_path',\n",
    "    'brand',\n",
    "    'brand_id',\n",
    "    'currency',\n",
    "    'price',\n",
    "    'discount',\n",
    "    'comment_count',\n",
    "    'sold_count',\n",
    "    'is_in_stock',\n",
    "    'is_ad',\n",
    "    'sale_price',\n",
    "    'origin_price',\n",
    "    'average_score',\n",
    "    'review_count',\n",
    "    'shop_id',\n",
    "    'shop_name',\n",
    "    'shop_url',\n",
    "    'seller_id',\n",
    "    'seller_name',\n",
    "    'area_from'\n",
    "]"
   ]
  },
  {
   "cell_type": "code",
   "execution_count": 73,
   "id": "e2015115-ed8c-4fdd-bc0a-2dd25e978e8c",
   "metadata": {},
   "outputs": [
    {
     "name": "stdout",
     "output_type": "stream",
     "text": [
      "Data inserted successfully!\n"
     ]
    }
   ],
   "source": [
    "# Insert data into the table\n",
    "try:\n",
    "    df.to_sql(table_name, con=engine, if_exists='replace', index=False, method='multi')\n",
    "    print(\"Data inserted successfully!\")\n",
    "\n",
    "except Exception as e:\n",
    "    print(f\"Error inserting data: {e}\")"
   ]
  },
  {
   "cell_type": "code",
   "execution_count": null,
   "id": "f5bf5968-4f1d-4bdd-91c6-c0c89e93470c",
   "metadata": {},
   "outputs": [],
   "source": []
  }
 ],
 "metadata": {
  "kernelspec": {
   "display_name": "Python 3 (ipykernel)",
   "language": "python",
   "name": "python3"
  },
  "language_info": {
   "codemirror_mode": {
    "name": "ipython",
    "version": 3
   },
   "file_extension": ".py",
   "mimetype": "text/x-python",
   "name": "python",
   "nbconvert_exporter": "python",
   "pygments_lexer": "ipython3",
   "version": "3.13.1"
  }
 },
 "nbformat": 4,
 "nbformat_minor": 5
}
