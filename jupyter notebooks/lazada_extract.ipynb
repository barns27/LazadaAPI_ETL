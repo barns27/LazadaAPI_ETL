{
 "cells": [
  {
   "cell_type": "markdown",
   "id": "9dd15f4f-901a-430a-9b24-d7a7e6e6f4db",
   "metadata": {},
   "source": [
    "# Lazada Project: Extract"
   ]
  },
  {
   "cell_type": "markdown",
   "id": "69960e41-3ad5-443c-8df4-464162444a9c",
   "metadata": {},
   "source": [
    "This part does extraction of ETL (Extract, Transform and Load).\n",
    "Data from API is processed and saved into csv file."
   ]
  },
  {
   "cell_type": "code",
   "execution_count": 83,
   "id": "a82811a6-8bd0-4dda-8a24-9d6980af6001",
   "metadata": {},
   "outputs": [],
   "source": [
    "#import libraries\n",
    "import requests\n",
    "import pandas as pd\n",
    "import json"
   ]
  },
  {
   "cell_type": "markdown",
   "id": "072ec1d3-0cbd-4538-9bba-c99d0df740db",
   "metadata": {},
   "source": [
    "## Retrieving data from API"
   ]
  },
  {
   "cell_type": "code",
   "execution_count": 90,
   "id": "297193e6-571a-4b36-a7ff-3ca462e99685",
   "metadata": {},
   "outputs": [],
   "source": [
    "url = \"https://lazada-api.p.rapidapi.com/lazada/search/items\""
   ]
  },
  {
   "cell_type": "code",
   "execution_count": 91,
   "id": "7b739cf4-cbe7-42e3-8149-3ae880eda444",
   "metadata": {},
   "outputs": [],
   "source": [
    "querystring = {\"keywords\":\"airpods\",\"site\":\"ph\",\"page\":\"1\",\"sort\":\"pop\"}"
   ]
  },
  {
   "cell_type": "code",
   "execution_count": 92,
   "id": "4bb61db4-56c4-4b40-bdc0-c5cd1c31224c",
   "metadata": {},
   "outputs": [],
   "source": [
    "headers = {\n",
    "\t\"x-rapidapi-key\": \"\", #personal api key deleted\n",
    "\t\"x-rapidapi-host\": \"lazada-api.p.rapidapi.com\"\n",
    "}"
   ]
  },
  {
   "cell_type": "code",
   "execution_count": 93,
   "id": "b5db1c1e-84d7-4ea2-b829-e04beab1917a",
   "metadata": {},
   "outputs": [],
   "source": [
    "response = requests.get(url, headers=headers, params=querystring)"
   ]
  },
  {
   "cell_type": "code",
   "execution_count": 108,
   "id": "89f1cd81-7cf0-43ab-afac-949947c5d4a8",
   "metadata": {},
   "outputs": [
    {
     "name": "stdout",
     "output_type": "stream",
     "text": [
      "200\n"
     ]
    }
   ],
   "source": [
    "#validate if response == 200\n",
    "print(response.status_code)"
   ]
  },
  {
   "cell_type": "code",
   "execution_count": 95,
   "id": "7f738660-5586-4a5e-8375-5d2deb143fab",
   "metadata": {},
   "outputs": [],
   "source": [
    "data = response.json()"
   ]
  },
  {
   "cell_type": "code",
   "execution_count": 107,
   "id": "110bf965-2692-47d0-9ad0-0584cefc9bc0",
   "metadata": {},
   "outputs": [],
   "source": [
    "#save into json file\n",
    "with open('lazada.json', 'w', encoding='utf-8') as outfile:\n",
    "    json.dump(data, outfile, indent=4)"
   ]
  },
  {
   "cell_type": "markdown",
   "id": "e9addc63-9883-4dbe-a9e9-80e4d62c9956",
   "metadata": {},
   "source": [
    "## Retrieving data from json file"
   ]
  },
  {
   "cell_type": "code",
   "execution_count": 135,
   "id": "db1f41f2-1ccf-415e-ac67-107e022a8cb3",
   "metadata": {},
   "outputs": [],
   "source": [
    "with open('lazada.json', 'r', encoding='utf-8') as f:\n",
    "    data = json.load(f)\n",
    "#skip if data is retrieved from API"
   ]
  },
  {
   "cell_type": "markdown",
   "id": "02104039-c8a4-4096-9d8a-29109335a2d4",
   "metadata": {},
   "source": [
    "## Process json data"
   ]
  },
  {
   "cell_type": "code",
   "execution_count": 136,
   "id": "0ec6c41e-da0f-4bd8-9b2a-fb3d45db4a9e",
   "metadata": {},
   "outputs": [],
   "source": [
    "items = data['data']['items']"
   ]
  },
  {
   "cell_type": "code",
   "execution_count": 137,
   "id": "a7efd203-cde1-4438-9292-87cb671b1a1f",
   "metadata": {},
   "outputs": [],
   "source": [
    "df = pd.DataFrame(items)"
   ]
  },
  {
   "cell_type": "code",
   "execution_count": 138,
   "id": "003914ac-fbfd-48d1-a19f-96e0872fd207",
   "metadata": {},
   "outputs": [],
   "source": [
    "#normalize price info\n",
    "df_price_info = pd.json_normalize(df['price_info'])\n",
    "df_price_info.columns = ['sale_price','origin_price']\n",
    "df = pd.concat([df,df_price_info],axis=1)\n",
    "df = df.drop('price_info',axis=1)"
   ]
  },
  {
   "cell_type": "code",
   "execution_count": 139,
   "id": "d5cc24ad-f2f0-4a50-b156-dc07061b8fc8",
   "metadata": {},
   "outputs": [],
   "source": [
    "#normalize review info\n",
    "df_review_info = pd.json_normalize(df['review_info'])\n",
    "df_review_info.columns = ['average_score','review_count']\n",
    "df = pd.concat([df,df_review_info],axis=1)\n",
    "df = df.drop('review_info',axis=1)"
   ]
  },
  {
   "cell_type": "code",
   "execution_count": 140,
   "id": "8ac5fa0e-8951-471a-b307-cb2f1fe5bfef",
   "metadata": {},
   "outputs": [],
   "source": [
    "#normalize shop info\n",
    "df_shop_info = pd.json_normalize(df['shop_info'])\n",
    "df = pd.concat([df,df_shop_info],axis=1)\n",
    "df = df.drop('shop_info',axis=1)"
   ]
  },
  {
   "cell_type": "code",
   "execution_count": 141,
   "id": "005dce8c-4c64-4270-a68b-6cad62967703",
   "metadata": {},
   "outputs": [],
   "source": [
    "#normalize delivery info\n",
    "df_delivery_info = pd.json_normalize(df['delivery_info'])\n",
    "df = pd.concat([df,df_delivery_info],axis=1)\n",
    "df = df.drop('delivery_info',axis=1)"
   ]
  },
  {
   "cell_type": "code",
   "execution_count": 142,
   "id": "16dbf31e-80db-42af-b945-4b288a3e996f",
   "metadata": {},
   "outputs": [],
   "source": [
    "df.to_csv('lazada.csv')"
   ]
  }
 ],
 "metadata": {
  "kernelspec": {
   "display_name": "Python 3 (ipykernel)",
   "language": "python",
   "name": "python3"
  },
  "language_info": {
   "codemirror_mode": {
    "name": "ipython",
    "version": 3
   },
   "file_extension": ".py",
   "mimetype": "text/x-python",
   "name": "python",
   "nbconvert_exporter": "python",
   "pygments_lexer": "ipython3",
   "version": "3.13.1"
  }
 },
 "nbformat": 4,
 "nbformat_minor": 5
}
